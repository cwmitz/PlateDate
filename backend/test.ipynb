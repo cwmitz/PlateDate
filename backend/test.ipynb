{
 "cells": [
  {
   "cell_type": "code",
   "execution_count": 1,
   "metadata": {},
   "outputs": [],
   "source": [
    "import json\n",
    "\n",
    "idf_path = \"data/idf.json\"\n",
    "inv_idx_path = \"data/inv_idx.json\"\n",
    "recipe_norms_path = \"data/recipe_norms.json\"\n",
    "id_to_recipe_path = \"data/id_to_recipe.json\"\n",
    "svd_path = \"data/svd.json\"\n",
    "\n",
    "with open(idf_path, \"r\") as f:\n",
    "    idf = json.load(f)\n",
    "\n",
    "with open(inv_idx_path, \"r\") as f:\n",
    "    inverted_index = json.load(f)\n",
    "\n",
    "with open(recipe_norms_path, \"r\") as f:\n",
    "    recipe_norms = {int(k): v for k, v in json.load(f).items()}\n",
    "\n",
    "with open(id_to_recipe_path, \"r\") as f:\n",
    "    id_to_recipe = json.load(f)\n",
    "\n",
    "with open(svd_path, \"r\") as f:\n",
    "    svd = json.load(f)"
   ]
  },
  {
   "cell_type": "code",
   "execution_count": 2,
   "metadata": {},
   "outputs": [
    {
     "name": "stderr",
     "output_type": "stream",
     "text": [
      "/Users/cwmitz/anaconda3/lib/python3.11/site-packages/fuzzywuzzy/fuzz.py:11: UserWarning: Using slow pure-python SequenceMatcher. Install python-Levenshtein to remove this warning\n",
      "  warnings.warn('Using slow pure-python SequenceMatcher. Install python-Levenshtein to remove this warning')\n"
     ]
    }
   ],
   "source": [
    "import algorithm"
   ]
  },
  {
   "cell_type": "code",
   "execution_count": null,
   "metadata": {},
   "outputs": [],
   "source": []
  }
 ],
 "metadata": {
  "kernelspec": {
   "display_name": "base",
   "language": "python",
   "name": "python3"
  },
  "language_info": {
   "codemirror_mode": {
    "name": "ipython",
    "version": 3
   },
   "file_extension": ".py",
   "mimetype": "text/x-python",
   "name": "python",
   "nbconvert_exporter": "python",
   "pygments_lexer": "ipython3",
   "version": "3.11.4"
  }
 },
 "nbformat": 4,
 "nbformat_minor": 2
}
