{
 "cells": [
  {
   "cell_type": "markdown",
   "metadata": {},
   "source": [
    "This file creates the json files we will need for our algorithm.\n",
    "If you change any of the data_files, you will need to run this file again to update the json files."
   ]
  },
  {
   "cell_type": "code",
   "execution_count": 8,
   "metadata": {},
   "outputs": [],
   "source": [
    "import csv\n",
    "import json\n",
    "import data_processing"
   ]
  },
  {
   "cell_type": "code",
   "execution_count": 9,
   "metadata": {},
   "outputs": [],
   "source": [
    "with open('data/recipes.csv', 'r') as f:\n",
    "    recipes = list(csv.DictReader(f))\n",
    "\n",
    "url_mapping = {}\n",
    "with open('data/recipes_urls.csv', 'r') as urls_file:\n",
    "    reader = csv.DictReader(urls_file)\n",
    "    for row in reader:\n",
    "        url_mapping[row['RecipeId']] = row['Url']"
   ]
  },
  {
   "cell_type": "code",
   "execution_count": 10,
   "metadata": {},
   "outputs": [],
   "source": [
    "recipes = recipes[:10000]"
   ]
  },
  {
   "cell_type": "code",
   "execution_count": 11,
   "metadata": {},
   "outputs": [],
   "source": [
    "# Pre-compute the inverted index, idf, recipe norms, and id to recipe mapping\n",
    "inv_idx = data_processing.build_inverted_index(recipes)\n",
    "id_to_recipe = data_processing.build_id_to_recipe(recipes)\n",
    "idf = data_processing.build_idf(inv_idx, len(recipes))\n",
    "recipe_norms = data_processing.build_recipe_norms(inv_idx, idf)"
   ]
  },
  {
   "cell_type": "code",
   "execution_count": 12,
   "metadata": {},
   "outputs": [],
   "source": [
    "# Save all the pre-computed data to four json files in /data\n",
    "with open('data/inv_idx.json', 'w') as f:\n",
    "    json.dump(inv_idx, f)\n",
    "\n",
    "with open('data/id_to_recipe.json', 'r') as json_file:\n",
    "    id_to_recipe = json.load(json_file)\n",
    "\n",
    "# Step 3: Add URLs to the JSON object based on RecipeId\n",
    "for recipe_id, recipe in id_to_recipe.items():\n",
    "    if recipe_id in url_mapping:\n",
    "        recipe['Url'] = url_mapping[recipe_id]\n",
    "\n",
    "# Step 4: Save the updated object back to id_to_recipe.json\n",
    "with open('data/id_to_recipe.json', 'w') as f:\n",
    "    json.dump(id_to_recipe, f)\n",
    "\n",
    "with open('data/idf.json', 'w') as f:\n",
    "    json.dump(idf, f)\n",
    "\n",
    "with open('data/recipe_norms.json', 'w') as f:\n",
    "    json.dump(recipe_norms, f)"
   ]
  },
  {
   "cell_type": "code",
   "execution_count": 13,
   "metadata": {},
   "outputs": [],
   "source": [
    "with open('data/recipes_urls.csv', 'r') as f:\n",
    "    recipes_urls = list(csv.DictReader(f))\n",
    "\n",
    "recipes_urls = recipes_urls[:10000]\n",
    "\n",
    "with open('data/recipe_urls.json', 'w') as f:\n",
    "    json.dump(recipes_urls, f)"
   ]
  }
 ],
 "metadata": {
  "kernelspec": {
   "display_name": "base",
   "language": "python",
   "name": "python3"
  },
  "language_info": {
   "codemirror_mode": {
    "name": "ipython",
    "version": 3
   },
   "file_extension": ".py",
   "mimetype": "text/x-python",
   "name": "python",
   "nbconvert_exporter": "python",
   "pygments_lexer": "ipython3",
   "version": "3.11.4"
  }
 },
 "nbformat": 4,
 "nbformat_minor": 2
}
