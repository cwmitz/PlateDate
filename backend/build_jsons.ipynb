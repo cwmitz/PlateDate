{
 "cells": [
  {
   "cell_type": "markdown",
   "metadata": {},
   "source": [
    "This file creates the json files we will need for our algorithm.\n",
    "If you change any of the data_files, you will need to run this file again to update the json files."
   ]
  },
  {
   "cell_type": "code",
   "execution_count": 2,
   "metadata": {},
   "outputs": [
    {
     "name": "stderr",
     "output_type": "stream",
     "text": [
      "/Users/cwmitz/anaconda3/lib/python3.11/site-packages/fuzzywuzzy/fuzz.py:11: UserWarning: Using slow pure-python SequenceMatcher. Install python-Levenshtein to remove this warning\n",
      "  warnings.warn('Using slow pure-python SequenceMatcher. Install python-Levenshtein to remove this warning')\n"
     ]
    }
   ],
   "source": [
    "import csv\n",
    "import json\n",
    "import data_processing"
   ]
  },
  {
   "cell_type": "code",
   "execution_count": 3,
   "metadata": {},
   "outputs": [],
   "source": [
    "with open('data/recipes.csv', 'r') as f:\n",
    "    recipes = list(csv.DictReader(f))\n",
    "\n",
    "with open(\"data/recipes_urls.csv\", \"r\") as f:\n",
    "    reader = csv.reader(f)\n",
    "    urls = list(reader)\n",
    "\n",
    "# Take off first row\n",
    "urls = urls[1:]\n",
    "\n",
    "id_to_url = {int(row[0]): row[2] for row in urls}"
   ]
  },
  {
   "cell_type": "code",
   "execution_count": 4,
   "metadata": {},
   "outputs": [],
   "source": [
    "# Filter out recipes with no images\n",
    "recipes_with_images = [recipe for recipe in recipes if recipe['Images'] != \"character(0)\"]\n",
    "\n",
    "# Filter out recipes with no images and no ratings\n",
    "recipes_filtered = [recipe for recipe in recipes_with_images if recipe['AggregatedRating'] != \"NA\"]\n",
    "\n",
    "# Randomly sample 30,000 recipes\n",
    "import random\n",
    "recipes_sampled = random.sample(recipes_filtered, 30000)"
   ]
  },
  {
   "cell_type": "code",
   "execution_count": 5,
   "metadata": {},
   "outputs": [],
   "source": [
    "# Pre-compute the inverted index, idf, recipe norms, and id to recipe mapping\n",
    "inv_idx = data_processing.build_inverted_index(recipes_sampled)\n",
    "id_to_recipe = data_processing.build_id_to_recipe(recipes_sampled)\n",
    "idf = data_processing.build_idf(inv_idx, len(recipes_sampled))\n",
    "recipe_norms = data_processing.build_recipe_norms(inv_idx, idf)"
   ]
  },
  {
   "cell_type": "code",
   "execution_count": 6,
   "metadata": {},
   "outputs": [],
   "source": [
    "# Add urls\n",
    "for recipe_id, recipe in id_to_recipe.items():\n",
    "    recipe['Url'] = id_to_url[recipe_id]"
   ]
  },
  {
   "cell_type": "code",
   "execution_count": 7,
   "metadata": {},
   "outputs": [],
   "source": [
    "# Save the pre-computed data\n",
    "with open('data/inv_idx.json', 'w') as f:\n",
    "    json.dump(inv_idx, f)\n",
    "\n",
    "with open('data/idf.json', 'w') as f:\n",
    "    json.dump(idf, f)\n",
    "\n",
    "with open('data/recipe_norms.json', 'w') as f:\n",
    "    json.dump(recipe_norms, f)\n",
    "\n",
    "with open('data/id_to_recipe.json', 'w') as f:\n",
    "    json.dump(id_to_recipe, f)"
   ]
  },
  {
   "cell_type": "code",
   "execution_count": 8,
   "metadata": {},
   "outputs": [],
   "source": [
    "with open('data/recipes_urls.csv', 'r') as f:\n",
    "    recipes_urls = list(csv.DictReader(f))\n",
    "\n",
    "recipes_urls = recipes_urls[:10000]\n",
    "\n",
    "with open('data/recipe_urls.json', 'w') as f:\n",
    "    json.dump(recipes_urls, f)"
   ]
  },
  {
   "cell_type": "markdown",
   "metadata": {},
   "source": [
    "# Added for SVD"
   ]
  },
  {
   "cell_type": "code",
   "execution_count": 12,
   "metadata": {},
   "outputs": [],
   "source": [
    "from sklearn.feature_extraction.text import TfidfVectorizer\n",
    "from sklearn.decomposition import TruncatedSVD\n",
    "\n",
    "corpus = []\n",
    "for id, recipe in id_to_recipe.items():\n",
    "    text = (\n",
    "        \" \".join(recipe[\"ingredients\"])\n",
    "        + \" \"\n",
    "        + recipe[\"description\"]\n",
    "        + \" \"\n",
    "        + recipe[\"instructions\"]\n",
    "    )\n",
    "    corpus.append(text)\n",
    "\n",
    "vectorizer = TfidfVectorizer(stop_words=\"english\")\n",
    "tfidf_matrix = vectorizer.fit_transform(corpus)\n",
    "\n",
    "n_components = 150\n",
    "svd = TruncatedSVD(n_components=n_components)\n",
    "U = svd.fit_transform(tfidf_matrix)"
   ]
  },
  {
   "cell_type": "code",
   "execution_count": 13,
   "metadata": {},
   "outputs": [],
   "source": [
    "with open(\"data/svd.json\", \"w\") as f:\n",
    "    json.dump(U.tolist(), f)"
   ]
  }
 ],
 "metadata": {
  "kernelspec": {
   "display_name": "base",
   "language": "python",
   "name": "python3"
  },
  "language_info": {
   "codemirror_mode": {
    "name": "ipython",
    "version": 3
   },
   "file_extension": ".py",
   "mimetype": "text/x-python",
   "name": "python",
   "nbconvert_exporter": "python",
   "pygments_lexer": "ipython3",
   "version": "3.11.4"
  }
 },
 "nbformat": 4,
 "nbformat_minor": 2
}
