{
 "cells": [
  {
   "cell_type": "code",
   "execution_count": 5,
   "metadata": {},
   "outputs": [],
   "source": [
    "import pickle\n",
    "from sklearn.feature_extraction.text import TfidfVectorizer\n",
    "from sklearn.decomposition import TruncatedSVD\n",
    "import json"
   ]
  },
  {
   "cell_type": "code",
   "execution_count": 6,
   "metadata": {},
   "outputs": [],
   "source": [
    "with open('data/id_to_recipe.json', 'r') as f:\n",
    "    id_to_recipe = json.load(f)\n",
    "\n",
    "corpus = []\n",
    "for _, recipe in id_to_recipe.items():\n",
    "    text = (\n",
    "        \" \".join(recipe[\"ingredients\"])\n",
    "        + \" \"\n",
    "        + recipe[\"description\"]\n",
    "        + \" \"\n",
    "        + recipe[\"instructions\"]\n",
    "    )\n",
    "    corpus.append(text)\n",
    "\n",
    "\n",
    "vectorizer = TfidfVectorizer(stop_words=\"english\")\n",
    "tfidf_matrix = vectorizer.fit_transform(corpus)\n",
    "\n",
    "n_components = 150\n",
    "svd_model = TruncatedSVD(n_components=n_components)\n",
    "svd = svd_model.fit_transform(tfidf_matrix)"
   ]
  },
  {
   "cell_type": "code",
   "execution_count": 7,
   "metadata": {},
   "outputs": [],
   "source": [
    "with open(\"data/tfidf_vectorizer.pkl\", \"wb\") as f:\n",
    "    pickle.dump(vectorizer, f)\n",
    "\n",
    "with open(\"data/svd_model.pkl\", \"wb\") as f:\n",
    "    pickle.dump(svd_model, f)\n",
    "\n",
    "with open(\"data/svd.pkl\", \"wb\") as f:\n",
    "    pickle.dump(svd, f)"
   ]
  }
 ],
 "metadata": {
  "kernelspec": {
   "display_name": "base",
   "language": "python",
   "name": "python3"
  },
  "language_info": {
   "codemirror_mode": {
    "name": "ipython",
    "version": 3
   },
   "file_extension": ".py",
   "mimetype": "text/x-python",
   "name": "python",
   "nbconvert_exporter": "python",
   "pygments_lexer": "ipython3",
   "version": "3.11.4"
  }
 },
 "nbformat": 4,
 "nbformat_minor": 2
}
