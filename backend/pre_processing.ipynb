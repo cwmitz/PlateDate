{
 "cells": [
  {
   "cell_type": "code",
   "execution_count": 1,
   "metadata": {},
   "outputs": [],
   "source": [
    "import csv\n",
    "import data_processing\n",
    "import algorithm"
   ]
  },
  {
   "cell_type": "code",
   "execution_count": 2,
   "metadata": {},
   "outputs": [],
   "source": [
    "with open('recipes.csv', 'r') as f:\n",
    "    recipes = list(csv.DictReader(f))"
   ]
  },
  {
   "cell_type": "code",
   "execution_count": 3,
   "metadata": {},
   "outputs": [],
   "source": [
    "inv_idx = data_processing.build_inverted_index(recipes)\n",
    "id_to_recipe = data_processing.build_id_to_recipe(recipes)\n",
    "idf = data_processing.build_idf(inv_idx, len(recipes))\n",
    "recipe_norms = data_processing.build_recipe_norms(inv_idx, idf)"
   ]
  },
  {
   "cell_type": "code",
   "execution_count": 4,
   "metadata": {},
   "outputs": [],
   "source": [
    "res = algorithm.cosine_similarity(\"kumquat jam\", inv_idx, idf, recipe_norms)"
   ]
  },
  {
   "cell_type": "code",
   "execution_count": 5,
   "metadata": {},
   "outputs": [
    {
     "name": "stdout",
     "output_type": "stream",
     "text": [
      "Kumquat Jam-Microwave 0.06134586052802411\n",
      "Kumquat Ice Jam 0.05150608828521601\n",
      "Refrigerator Jam 0.05092297138683006\n",
      "Fruit Juice Jam 0.048710959885059\n",
      "Red Onion Jam 0.04649444538337804\n",
      "Kumquat Pecan Bread 0.04544156291340984\n",
      "Onion Jam 0.043827829399841756\n",
      "Kumquat Ice Cream 0.043012401333804684\n",
      "Easy Bread and Jam Dessert 0.042942343939978804\n",
      "Strawberry-Ginger Refrigerator Jam 0.04270847839640333\n"
     ]
    }
   ],
   "source": [
    "# Print out the top 10 recipe names\n",
    "for recipe_id, score in res[:10]:\n",
    "    print(id_to_recipe[recipe_id]['name'], score)"
   ]
  },
  {
   "cell_type": "code",
   "execution_count": 15,
   "metadata": {},
   "outputs": [],
   "source": [
    "res2 = algorithm.algorithm([\"ice cream\", \"strawberry\", \"frozen yogurt\"], inv_idx, idf, recipe_norms)"
   ]
  },
  {
   "cell_type": "code",
   "execution_count": 16,
   "metadata": {},
   "outputs": [
    {
     "name": "stdout",
     "output_type": "stream",
     "text": [
      "Ice Cream\n",
      "Strawberry Milk\n",
      "Homemade Frozen Yogurt\n",
      "Lemon Dessert\n",
      "Strawberry Vinegar\n",
      "Chocolate Frozen Yogurt\n",
      "Cinnamon Ice Cream\n",
      "Strawberry Cake\n",
      "Frozen Fruit and Yogurt Pops\n",
      "Roasted Garlic Ice Cream\n"
     ]
    }
   ],
   "source": [
    "# Print out the top 10 recipe names\n",
    "for recipe_id, score in res2[:10]:\n",
    "    print(id_to_recipe[recipe_id]['name'])"
   ]
  }
 ],
 "metadata": {
  "kernelspec": {
   "display_name": "base",
   "language": "python",
   "name": "python3"
  },
  "language_info": {
   "codemirror_mode": {
    "name": "ipython",
    "version": 3
   },
   "file_extension": ".py",
   "mimetype": "text/x-python",
   "name": "python",
   "nbconvert_exporter": "python",
   "pygments_lexer": "ipython3",
   "version": "3.11.4"
  }
 },
 "nbformat": 4,
 "nbformat_minor": 2
}
