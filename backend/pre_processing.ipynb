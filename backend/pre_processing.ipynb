{
 "cells": [
  {
   "cell_type": "code",
   "execution_count": 45,
   "metadata": {},
   "outputs": [],
   "source": [
    "import csv\n",
    "import data_processing\n",
    "import algorithm\n",
    "from re import findall\n",
    "import recipe_parser"
   ]
  },
  {
   "cell_type": "code",
   "execution_count": 46,
   "metadata": {},
   "outputs": [],
   "source": [
    "with open('recipes.csv', 'r') as f:\n",
    "    recipes = list(csv.DictReader(f))"
   ]
  },
  {
   "cell_type": "code",
   "execution_count": 56,
   "metadata": {},
   "outputs": [
    {
     "name": "stdout",
     "output_type": "stream",
     "text": [
      "{'RecipeId': '38', 'Name': 'Low-Fat Berry Blue Frozen Dessert', 'AuthorId': '1533', 'AuthorName': 'Dancer', 'CookTime': 'PT24H', 'PrepTime': 'PT45M', 'TotalTime': 'PT24H45M', 'DatePublished': '1999-08-09T21:46:00Z', 'Description': 'Make and share this Low-Fat Berry Blue Frozen Dessert recipe from Food.com.', 'Images': 'c(\"https://img.sndimg.com/food/image/upload/w_555,h_416,c_fit,fl_progressive,q_95/v1/img/recipes/38/YUeirxMLQaeE1h3v3qnM_229%20berry%20blue%20frzn%20dess.jpg\", \"https://img.sndimg.com/food/image/upload/w_555,h_416,c_fit,fl_progressive,q_95/v1/img/recipes/38/AFPDDHATWzQ0b1CDpDAT_255%20berry%20blue%20frzn%20dess.jpg\", \"https://img.sndimg.com/food/image/upload/w_555,h_416,c_fit,fl_progressive,q_95/v1/img/recipes/38/UYgf9nwMT2SGGJCuzILO_228%20berry%20blue%20frzn%20dess.jpg\", \"https://img.sndimg.com/food/image/upload/w_555,h_416,c_fit,fl_progressive,q_95/v1/img/recipes/38/PeBMJN2TGSaYks2759BA_20140722_202142.jpg\", \\n\"https://img.sndimg.com/food/image/upload/w_555,h_416,c_fit,fl_progressive,q_95/v1/img/recipes/38/picuaETeN.jpg\", \"https://img.sndimg.com/food/image/upload/w_555,h_416,c_fit,fl_progressive,q_95/v1/img/recipes/38/pictzvxW5.jpg\")', 'RecipeCategory': 'Frozen Desserts', 'Keywords': 'c(\"Dessert\", \"Low Protein\", \"Low Cholesterol\", \"Healthy\", \"Free Of...\", \"Summer\", \"Weeknight\", \"Freezer\", \"Easy\")', 'RecipeIngredientQuantities': 'c(\"4\", \"1/4\", \"1\", \"1\")', 'RecipeIngredientParts': 'c(\"blueberries\", \"granulated sugar\", \"vanilla yogurt\", \"lemon juice\")', 'AggregatedRating': '4.5', 'ReviewCount': '4', 'Calories': '170.9', 'FatContent': '2.5', 'SaturatedFatContent': '1.3', 'CholesterolContent': '8', 'SodiumContent': '29.8', 'CarbohydrateContent': '37.1', 'FiberContent': '3.6', 'SugarContent': '30.2', 'ProteinContent': '3.2', 'RecipeServings': '4', 'RecipeYield': 'NA', 'RecipeInstructions': 'c(\"Toss 2 cups berries with sugar.\", \"Let stand for 45 minutes, stirring occasionally.\", \"Transfer berry-sugar mixture to food processor.\", \"Add yogurt and process until smooth.\", \"Strain through fine sieve. Pour into baking pan (or transfer to ice cream maker and process according to manufacturers\\' directions). Freeze uncovered until edges are solid but centre is soft.  Transfer to processor and blend until smooth again.\", \"Return to pan and freeze until edges are solid.\", \"Transfer to processor and blend until smooth again.\", \\n\"Fold in remaining 2 cups of blueberries.\", \"Pour into plastic mold and freeze overnight. Let soften slightly to serve.\")'}\n"
     ]
    }
   ],
   "source": [
    "recipes[0]"
   ]
  },
  {
   "cell_type": "code",
   "execution_count": 13,
   "metadata": {},
   "outputs": [],
   "source": [
    "inv_idx = data_processing.build_inverted_index(recipes)\n",
    "id_to_recipe = data_processing.build_id_to_recipe(recipes)\n",
    "idf = data_processing.build_idf(inv_idx, len(recipes))\n",
    "recipe_norms = data_processing.build_recipe_norms(inv_idx, idf)"
   ]
  },
  {
   "cell_type": "code",
   "execution_count": 4,
   "metadata": {},
   "outputs": [],
   "source": [
    "res = algorithm.cosine_similarity(\"kumquat jam\", inv_idx, idf, recipe_norms)"
   ]
  },
  {
   "cell_type": "code",
   "execution_count": 5,
   "metadata": {},
   "outputs": [
    {
     "name": "stdout",
     "output_type": "stream",
     "text": [
      "Kumquat Jam-Microwave 0.06134586052802411\n",
      "Kumquat Ice Jam 0.05150608828521601\n",
      "Refrigerator Jam 0.05092297138683006\n",
      "Fruit Juice Jam 0.048710959885059\n",
      "Red Onion Jam 0.04649444538337804\n",
      "Kumquat Pecan Bread 0.04544156291340984\n",
      "Onion Jam 0.043827829399841756\n",
      "Kumquat Ice Cream 0.043012401333804684\n",
      "Easy Bread and Jam Dessert 0.042942343939978804\n",
      "Strawberry-Ginger Refrigerator Jam 0.04270847839640333\n"
     ]
    }
   ],
   "source": [
    "# Print out the top 10 recipe names\n",
    "for recipe_id, score in res[:10]:\n",
    "    print(id_to_recipe[recipe_id]['name'], score)"
   ]
  },
  {
   "cell_type": "code",
   "execution_count": 15,
   "metadata": {},
   "outputs": [],
   "source": [
    "res2 = algorithm.algorithm([\"ice cream\", \"strawberry\", \"frozen yogurt\"], inv_idx, idf, recipe_norms)"
   ]
  },
  {
   "cell_type": "code",
   "execution_count": 16,
   "metadata": {},
   "outputs": [
    {
     "name": "stdout",
     "output_type": "stream",
     "text": [
      "Ice Cream\n",
      "Strawberry Milk\n",
      "Homemade Frozen Yogurt\n",
      "Lemon Dessert\n",
      "Strawberry Vinegar\n",
      "Chocolate Frozen Yogurt\n",
      "Cinnamon Ice Cream\n",
      "Strawberry Cake\n",
      "Frozen Fruit and Yogurt Pops\n",
      "Roasted Garlic Ice Cream\n"
     ]
    }
   ],
   "source": [
    "# Print out the top 10 recipe names\n",
    "for recipe_id, score in res2[:10]:\n",
    "    print(id_to_recipe[recipe_id]['name'])"
   ]
  }
 ],
 "metadata": {
  "kernelspec": {
   "display_name": "base",
   "language": "python",
   "name": "python3"
  },
  "language_info": {
   "codemirror_mode": {
    "name": "ipython",
    "version": 3
   },
   "file_extension": ".py",
   "mimetype": "text/x-python",
   "name": "python",
   "nbconvert_exporter": "python",
   "pygments_lexer": "ipython3",
   "version": "3.12.2"
  }
 },
 "nbformat": 4,
 "nbformat_minor": 2
}
