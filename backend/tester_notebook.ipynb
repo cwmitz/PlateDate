{
 "cells": [
  {
   "cell_type": "code",
   "execution_count": 9,
   "metadata": {},
   "outputs": [
    {
     "ename": "KeyError",
     "evalue": "49027",
     "output_type": "error",
     "traceback": [
      "\u001b[0;31m---------------------------------------------------------------------------\u001b[0m",
      "\u001b[0;31mKeyError\u001b[0m                                  Traceback (most recent call last)",
      "Cell \u001b[0;32mIn[9], line 13\u001b[0m\n\u001b[1;32m     10\u001b[0m \u001b[38;5;28;01mwith\u001b[39;00m \u001b[38;5;28mopen\u001b[39m(\u001b[38;5;124m'\u001b[39m\u001b[38;5;124mdata/recipe_norms.json\u001b[39m\u001b[38;5;124m'\u001b[39m) \u001b[38;5;28;01mas\u001b[39;00m file:\n\u001b[1;32m     11\u001b[0m     recipe_norms \u001b[38;5;241m=\u001b[39m json\u001b[38;5;241m.\u001b[39mload(file)\n\u001b[0;32m---> 13\u001b[0m \u001b[38;5;28mprint\u001b[39m(\u001b[43malgorithm\u001b[49m\u001b[38;5;241;43m.\u001b[39;49m\u001b[43malgorithm\u001b[49m\u001b[43m(\u001b[49m\u001b[43m[\u001b[49m\u001b[38;5;124;43m\"\u001b[39;49m\u001b[38;5;124;43mpizza\u001b[39;49m\u001b[38;5;124;43m\"\u001b[39;49m\u001b[43m]\u001b[49m\u001b[43m,\u001b[49m\u001b[43m \u001b[49m\u001b[43minv_idx\u001b[49m\u001b[43m,\u001b[49m\u001b[43m \u001b[49m\u001b[43midf\u001b[49m\u001b[43m,\u001b[49m\u001b[43m \u001b[49m\u001b[43mrecipe_norms\u001b[49m\u001b[43m)\u001b[49m)\n",
      "File \u001b[0;32m~/CS4300/PlateDate/backend/algorithm.py:129\u001b[0m, in \u001b[0;36malgorithm\u001b[0;34m(queries, inverted_index, idf, recipe_norms)\u001b[0m\n\u001b[1;32m    114\u001b[0m \u001b[38;5;250m\u001b[39m\u001b[38;5;124;03m\"\"\"\u001b[39;00m\n\u001b[1;32m    115\u001b[0m \u001b[38;5;124;03mRuns cosine similarity for each query and then calculates the most common\u001b[39;00m\n\u001b[1;32m    116\u001b[0m \u001b[38;5;124;03mrecipes from the results.\u001b[39;00m\n\u001b[0;32m   (...)\u001b[0m\n\u001b[1;32m    125\u001b[0m \u001b[38;5;124;03m    list: The top 10 recipes in common for all queries.\u001b[39;00m\n\u001b[1;32m    126\u001b[0m \u001b[38;5;124;03m\"\"\"\u001b[39;00m\n\u001b[1;32m    127\u001b[0m \u001b[38;5;66;03m# Run cosine similarity for each query\u001b[39;00m\n\u001b[1;32m    128\u001b[0m cosine_scores \u001b[38;5;241m=\u001b[39m [\n\u001b[0;32m--> 129\u001b[0m     \u001b[43mcosine_similarity\u001b[49m\u001b[43m(\u001b[49m\u001b[43mquery\u001b[49m\u001b[43m,\u001b[49m\u001b[43m \u001b[49m\u001b[43minverted_index\u001b[49m\u001b[43m,\u001b[49m\u001b[43m \u001b[49m\u001b[43midf\u001b[49m\u001b[43m,\u001b[49m\u001b[43m \u001b[49m\u001b[43mrecipe_norms\u001b[49m\u001b[43m)\u001b[49m \u001b[38;5;28;01mfor\u001b[39;00m query \u001b[38;5;129;01min\u001b[39;00m queries\n\u001b[1;32m    130\u001b[0m ]\n\u001b[1;32m    132\u001b[0m top_recipes \u001b[38;5;241m=\u001b[39m common_recipes(cosine_scores)\n\u001b[1;32m    134\u001b[0m num_queries \u001b[38;5;241m=\u001b[39m \u001b[38;5;28mlen\u001b[39m(queries)\n",
      "File \u001b[0;32m~/CS4300/PlateDate/backend/algorithm.py:60\u001b[0m, in \u001b[0;36mcosine_similarity\u001b[0;34m(query, inverted_index, idf, recipe_norms)\u001b[0m\n\u001b[1;32m     56\u001b[0m cosine_scores \u001b[38;5;241m=\u001b[39m []\n\u001b[1;32m     57\u001b[0m \u001b[38;5;28;01mfor\u001b[39;00m recipe_id, dot_score \u001b[38;5;129;01min\u001b[39;00m dot_scores\u001b[38;5;241m.\u001b[39mitems():\n\u001b[1;32m     58\u001b[0m     cosine_scores\u001b[38;5;241m.\u001b[39mappend(\n\u001b[1;32m     59\u001b[0m         (\u001b[38;5;28mint\u001b[39m(recipe_id), dot_score \u001b[38;5;241m/\u001b[39m\n\u001b[0;32m---> 60\u001b[0m          (query_norm \u001b[38;5;241m*\u001b[39m \u001b[43mrecipe_norms\u001b[49m\u001b[43m[\u001b[49m\u001b[38;5;28;43mint\u001b[39;49m\u001b[43m(\u001b[49m\u001b[43mrecipe_id\u001b[49m\u001b[43m)\u001b[49m\u001b[43m]\u001b[49m))\n\u001b[1;32m     61\u001b[0m     )\n\u001b[1;32m     63\u001b[0m \u001b[38;5;28;01mreturn\u001b[39;00m cosine_scores\n",
      "\u001b[0;31mKeyError\u001b[0m: 49027"
     ]
    }
   ],
   "source": [
    "import algorithm\n",
    "import json\n",
    "\n",
    "with open('data/inv_idx.json') as file:\n",
    "    inv_idx = json.load(file)\n",
    "\n",
    "with open('data/idf.json') as file:\n",
    "    idf = json.load(file)\n",
    "\n",
    "with open('data/recipe_norms.json') as file:\n",
    "    recipe_norms = json.load(file)\n",
    "\n",
    "rah = algorithm.cosine_similarity(\"chicken\", inv_idx, idf, recipe_norms)\n",
    "\n",
    "for id, score in rah:\n",
    "    if id == 297917:\n",
    "        print(\"Chicken: \" + str(id) + str(score))\n"
   ]
  }
 ],
 "metadata": {
  "kernelspec": {
   "display_name": "venv",
   "language": "python",
   "name": "python3"
  },
  "language_info": {
   "codemirror_mode": {
    "name": "ipython",
    "version": 3
   },
   "file_extension": ".py",
   "mimetype": "text/x-python",
   "name": "python",
   "nbconvert_exporter": "python",
   "pygments_lexer": "ipython3",
   "version": "3.12.2"
  }
 },
 "nbformat": 4,
 "nbformat_minor": 2
}
