{
 "cells": [
  {
   "cell_type": "code",
   "execution_count": 31,
   "metadata": {},
   "outputs": [],
   "source": [
    "import csv\n",
    "import data_processing\n",
    "import algorithm\n",
    "from re import findall\n",
    "import recipe_parser"
   ]
  },
  {
   "cell_type": "code",
   "execution_count": 17,
   "metadata": {},
   "outputs": [],
   "source": [
    "with open('data/recipes.csv', 'r') as f:\n",
    "    recipes = list(csv.DictReader(f))"
   ]
  },
  {
   "cell_type": "code",
   "execution_count": null,
   "metadata": {},
   "outputs": [],
   "source": [
    "print(recipes[0])\n",
    "rah = recipe_parser.parse_instructions(recipes[0])\n",
    "print(rah)"
   ]
  },
  {
   "cell_type": "code",
   "execution_count": 18,
   "metadata": {},
   "outputs": [],
   "source": [
    "recipes = recipes[:10000]\n",
    "inv_idx = data_processing.build_inverted_index(recipes)\n",
    "id_to_recipe = data_processing.build_id_to_recipe(recipes)\n",
    "idf = data_processing.build_idf(inv_idx, len(recipes))\n",
    "recipe_norms = data_processing.build_recipe_norms(inv_idx, idf)"
   ]
  },
  {
   "cell_type": "code",
   "execution_count": 19,
   "metadata": {},
   "outputs": [],
   "source": [
    "res = algorithm.cosine_similarity(\"lemon dessert\", inv_idx, idf, recipe_norms)"
   ]
  },
  {
   "cell_type": "code",
   "execution_count": 20,
   "metadata": {},
   "outputs": [
    {
     "name": "stdout",
     "output_type": "stream",
     "text": [
      "Rice Pudding 0.12546715457826013\n",
      "Lemon Poppy Seed Cake 0.11975219083741352\n",
      "Green Tomato Pie 0.11440767944197215\n",
      "Lemon Cake 0.11337507196141429\n",
      "Vinegar Pie 0.1126777024986445\n",
      "Lemon Sour Cream Pie 0.11215789237072495\n",
      "Lemon Sponge Pie 0.1100246145192226\n",
      "Orange Marmalade 0.10999133807435493\n",
      "Ricotta Cheesecake 0.10658745728313504\n",
      "Lemon-Sour Cream Pie 0.10578394745474305\n"
     ]
    }
   ],
   "source": [
    "# Print out the top 10 recipe names\n",
    "for recipe_id, score in res[:10]:\n",
    "    print(id_to_recipe[recipe_id]['name'], score)"
   ]
  },
  {
   "cell_type": "code",
   "execution_count": 21,
   "metadata": {},
   "outputs": [],
   "source": [
    "res2 = algorithm.algorithm([\"ice cream\", \"strawberry\", \"frozen yogurt\"], inv_idx, idf, recipe_norms)"
   ]
  },
  {
   "cell_type": "code",
   "execution_count": 22,
   "metadata": {},
   "outputs": [
    {
     "name": "stdout",
     "output_type": "stream",
     "text": [
      "Homemade Yogurt\n",
      "Chocolate Cream Puffs\n",
      "strawberry filling\n",
      "Fresh Strawberry Pie\n",
      "Frozen Yogurt-On-A-Stick\n",
      "Orange Pudding Cake\n",
      "Low-Fat Strawberry Butter\n",
      "Strawberry Sandesh\n",
      "Low-Fat Berry Blue Frozen Dessert\n",
      "Xocoalt\n"
     ]
    }
   ],
   "source": [
    "# Print out the top 10 recipe names\n",
    "for recipe_id, score in res2[:10]:\n",
    "    print(id_to_recipe[recipe_id]['name'])"
   ]
  }
 ],
 "metadata": {
  "kernelspec": {
   "display_name": "base",
   "language": "python",
   "name": "python3"
  },
  "language_info": {
   "codemirror_mode": {
    "name": "ipython",
    "version": 3
   },
   "file_extension": ".py",
   "mimetype": "text/x-python",
   "name": "python",
   "nbconvert_exporter": "python",
   "pygments_lexer": "ipython3",
   "version": "3.12.2"
  }
 },
 "nbformat": 4,
 "nbformat_minor": 2
}
