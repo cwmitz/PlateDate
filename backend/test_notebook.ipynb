{
 "cells": [
  {
   "cell_type": "code",
   "execution_count": 1,
   "metadata": {},
   "outputs": [],
   "source": [
    "import csv\n",
    "import data_processing\n",
    "import algorithm\n",
    "from re import findall\n",
    "import recipe_parser\n",
    "import url_webscraping\n",
    "import pandas as pd\n",
    "import svd"
   ]
  },
  {
   "cell_type": "code",
   "execution_count": 2,
   "metadata": {},
   "outputs": [],
   "source": [
    "with open('data/recipes.csv', 'r') as f:\n",
    "    recipes = list(csv.DictReader(f))"
   ]
  },
  {
   "cell_type": "code",
   "execution_count": 3,
   "metadata": {},
   "outputs": [
    {
     "name": "stdout",
     "output_type": "stream",
     "text": [
      "{'RecipeId': '38', 'Name': 'Low-Fat Berry Blue Frozen Dessert', 'AuthorId': '1533', 'AuthorName': 'Dancer', 'CookTime': 'PT24H', 'PrepTime': 'PT45M', 'TotalTime': 'PT24H45M', 'DatePublished': '1999-08-09T21:46:00Z', 'Description': 'Make and share this Low-Fat Berry Blue Frozen Dessert recipe from Food.com.', 'Images': 'c(\"https://img.sndimg.com/food/image/upload/w_555,h_416,c_fit,fl_progressive,q_95/v1/img/recipes/38/YUeirxMLQaeE1h3v3qnM_229%20berry%20blue%20frzn%20dess.jpg\", \"https://img.sndimg.com/food/image/upload/w_555,h_416,c_fit,fl_progressive,q_95/v1/img/recipes/38/AFPDDHATWzQ0b1CDpDAT_255%20berry%20blue%20frzn%20dess.jpg\", \"https://img.sndimg.com/food/image/upload/w_555,h_416,c_fit,fl_progressive,q_95/v1/img/recipes/38/UYgf9nwMT2SGGJCuzILO_228%20berry%20blue%20frzn%20dess.jpg\", \"https://img.sndimg.com/food/image/upload/w_555,h_416,c_fit,fl_progressive,q_95/v1/img/recipes/38/PeBMJN2TGSaYks2759BA_20140722_202142.jpg\", \\n\"https://img.sndimg.com/food/image/upload/w_555,h_416,c_fit,fl_progressive,q_95/v1/img/recipes/38/picuaETeN.jpg\", \"https://img.sndimg.com/food/image/upload/w_555,h_416,c_fit,fl_progressive,q_95/v1/img/recipes/38/pictzvxW5.jpg\")', 'RecipeCategory': 'Frozen Desserts', 'Keywords': 'c(\"Dessert\", \"Low Protein\", \"Low Cholesterol\", \"Healthy\", \"Free Of...\", \"Summer\", \"Weeknight\", \"Freezer\", \"Easy\")', 'RecipeIngredientQuantities': 'c(\"4\", \"1/4\", \"1\", \"1\")', 'RecipeIngredientParts': 'c(\"blueberries\", \"granulated sugar\", \"vanilla yogurt\", \"lemon juice\")', 'AggregatedRating': '4.5', 'ReviewCount': '4', 'Calories': '170.9', 'FatContent': '2.5', 'SaturatedFatContent': '1.3', 'CholesterolContent': '8', 'SodiumContent': '29.8', 'CarbohydrateContent': '37.1', 'FiberContent': '3.6', 'SugarContent': '30.2', 'ProteinContent': '3.2', 'RecipeServings': '4', 'RecipeYield': 'NA', 'RecipeInstructions': 'c(\"Toss 2 cups berries with sugar.\", \"Let stand for 45 minutes, stirring occasionally.\", \"Transfer berry-sugar mixture to food processor.\", \"Add yogurt and process until smooth.\", \"Strain through fine sieve. Pour into baking pan (or transfer to ice cream maker and process according to manufacturers\\' directions). Freeze uncovered until edges are solid but centre is soft.  Transfer to processor and blend until smooth again.\", \"Return to pan and freeze until edges are solid.\", \"Transfer to processor and blend until smooth again.\", \\n\"Fold in remaining 2 cups of blueberries.\", \"Pour into plastic mold and freeze overnight. Let soften slightly to serve.\")'}\n",
      "Toss 2 cups berries with sugar. Let stand for 45 minutes, stirring occasionally. Transfer berry-sugar mixture to food processor. Add yogurt and process until smooth. Strain through fine sieve. Pour into baking pan (or transfer to ice cream maker and process according to manufacturers' directions). Freeze uncovered until edges are solid but centre is soft.  Transfer to processor and blend until smooth again. Return to pan and freeze until edges are solid. Transfer to processor and blend until smooth again. Fold in remaining 2 cups of blueberries. Pour into plastic mold and freeze overnight. Let soften slightly to serve. \n"
     ]
    }
   ],
   "source": [
    "print(recipes[0])\n",
    "rah = recipe_parser.parse_instructions(recipes[0])\n",
    "print(rah)"
   ]
  },
  {
   "cell_type": "code",
   "execution_count": 4,
   "metadata": {},
   "outputs": [],
   "source": [
    "recipes = recipes[:10000]\n",
    "inv_idx = data_processing.build_inverted_index(recipes)\n",
    "id_to_recipe = data_processing.build_id_to_recipe(recipes)\n",
    "idf = data_processing.build_idf(inv_idx, len(recipes))\n",
    "recipe_norms = data_processing.build_recipe_norms(inv_idx, idf)"
   ]
  },
  {
   "cell_type": "code",
   "execution_count": 19,
   "metadata": {},
   "outputs": [],
   "source": [
    "res = algorithm.cosine_similarity(\"lemon dessert\", inv_idx, idf, recipe_norms)"
   ]
  },
  {
   "cell_type": "code",
   "execution_count": 20,
   "metadata": {},
   "outputs": [
    {
     "name": "stdout",
     "output_type": "stream",
     "text": [
      "Rice Pudding 0.12546715457826013\n",
      "Lemon Poppy Seed Cake 0.11975219083741352\n",
      "Green Tomato Pie 0.11440767944197215\n",
      "Lemon Cake 0.11337507196141429\n",
      "Vinegar Pie 0.1126777024986445\n",
      "Lemon Sour Cream Pie 0.11215789237072495\n",
      "Lemon Sponge Pie 0.1100246145192226\n",
      "Orange Marmalade 0.10999133807435493\n",
      "Ricotta Cheesecake 0.10658745728313504\n",
      "Lemon-Sour Cream Pie 0.10578394745474305\n"
     ]
    }
   ],
   "source": [
    "# Print out the top 10 recipe names\n",
    "for recipe_id, score in res[:10]:\n",
    "    print(id_to_recipe[recipe_id]['name'], score)"
   ]
  },
  {
   "cell_type": "code",
   "execution_count": 21,
   "metadata": {},
   "outputs": [],
   "source": [
    "res2 = algorithm.algorithm([\"ice cream\", \"strawberry\", \"frozen yogurt\"], inv_idx, idf, recipe_norms)"
   ]
  },
  {
   "cell_type": "code",
   "execution_count": 22,
   "metadata": {},
   "outputs": [
    {
     "name": "stdout",
     "output_type": "stream",
     "text": [
      "Homemade Yogurt\n",
      "Chocolate Cream Puffs\n",
      "strawberry filling\n",
      "Fresh Strawberry Pie\n",
      "Frozen Yogurt-On-A-Stick\n",
      "Orange Pudding Cake\n",
      "Low-Fat Strawberry Butter\n",
      "Strawberry Sandesh\n",
      "Low-Fat Berry Blue Frozen Dessert\n",
      "Xocoalt\n"
     ]
    }
   ],
   "source": [
    "# Print out the top 10 recipe names\n",
    "for recipe_id, score in res2[:10]:\n",
    "    print(id_to_recipe[recipe_id]['name'])"
   ]
  },
  {
   "cell_type": "code",
   "execution_count": 2,
   "metadata": {},
   "outputs": [],
   "source": [
    "recipes = pd.read_csv('data/recipes.csv')\n",
    "recipes = recipes\n",
    "url_webscraping.build_recipe_url_data(url_webscraping.url_builder, recipes, 'data/recipes_urls.csv')"
   ]
  },
  {
   "cell_type": "code",
   "execution_count": 8,
   "metadata": {},
   "outputs": [
    {
     "data": {
      "text/html": [
       "<div>\n",
       "<style scoped>\n",
       "    .dataframe tbody tr th:only-of-type {\n",
       "        vertical-align: middle;\n",
       "    }\n",
       "\n",
       "    .dataframe tbody tr th {\n",
       "        vertical-align: top;\n",
       "    }\n",
       "\n",
       "    .dataframe thead th {\n",
       "        text-align: right;\n",
       "    }\n",
       "</style>\n",
       "<table border=\"1\" class=\"dataframe\">\n",
       "  <thead>\n",
       "    <tr style=\"text-align: right;\">\n",
       "      <th></th>\n",
       "      <th>RecipeId</th>\n",
       "      <th>Name</th>\n",
       "      <th>Url</th>\n",
       "    </tr>\n",
       "  </thead>\n",
       "  <tbody>\n",
       "    <tr>\n",
       "      <th>0</th>\n",
       "      <td>38</td>\n",
       "      <td>Low-Fat Berry Blue Frozen Dessert</td>\n",
       "      <td>https://www.food.com/recipe/low-fat-berry-blue...</td>\n",
       "    </tr>\n",
       "    <tr>\n",
       "      <th>1</th>\n",
       "      <td>39</td>\n",
       "      <td>Biryani</td>\n",
       "      <td>https://www.food.com/recipe/biryani-39</td>\n",
       "    </tr>\n",
       "    <tr>\n",
       "      <th>2</th>\n",
       "      <td>40</td>\n",
       "      <td>Best Lemonade</td>\n",
       "      <td>https://www.food.com/recipe/best-lemonade-40</td>\n",
       "    </tr>\n",
       "    <tr>\n",
       "      <th>3</th>\n",
       "      <td>41</td>\n",
       "      <td>Carina's Tofu-Vegetable Kebabs</td>\n",
       "      <td>https://www.food.com/recipe/carina's-tofu-vege...</td>\n",
       "    </tr>\n",
       "    <tr>\n",
       "      <th>4</th>\n",
       "      <td>42</td>\n",
       "      <td>Cabbage Soup</td>\n",
       "      <td>https://www.food.com/recipe/cabbage-soup-42</td>\n",
       "    </tr>\n",
       "    <tr>\n",
       "      <th>...</th>\n",
       "      <td>...</td>\n",
       "      <td>...</td>\n",
       "      <td>...</td>\n",
       "    </tr>\n",
       "    <tr>\n",
       "      <th>522512</th>\n",
       "      <td>541379</td>\n",
       "      <td>Meg's Fresh Ginger Gingerbread</td>\n",
       "      <td>https://www.food.com/recipe/meg's-fresh-ginger...</td>\n",
       "    </tr>\n",
       "    <tr>\n",
       "      <th>522513</th>\n",
       "      <td>541380</td>\n",
       "      <td>Roast Prime Rib au Poivre with Mixed Peppercorns</td>\n",
       "      <td>https://www.food.com/recipe/roast-prime-rib-au...</td>\n",
       "    </tr>\n",
       "    <tr>\n",
       "      <th>522514</th>\n",
       "      <td>541381</td>\n",
       "      <td>Kirshwasser Ice Cream</td>\n",
       "      <td>https://www.food.com/recipe/kirshwasser-ice-cr...</td>\n",
       "    </tr>\n",
       "    <tr>\n",
       "      <th>522515</th>\n",
       "      <td>541382</td>\n",
       "      <td>Quick &amp; Easy Asian Cucumber Salmon Rolls</td>\n",
       "      <td>https://www.food.com/recipe/quick-&amp;-easy-asian...</td>\n",
       "    </tr>\n",
       "    <tr>\n",
       "      <th>522516</th>\n",
       "      <td>541383</td>\n",
       "      <td>Spicy Baked Scotch Eggs</td>\n",
       "      <td>https://www.food.com/recipe/spicy-baked-scotch...</td>\n",
       "    </tr>\n",
       "  </tbody>\n",
       "</table>\n",
       "<p>522517 rows × 3 columns</p>\n",
       "</div>"
      ],
      "text/plain": [
       "        RecipeId                                              Name  \\\n",
       "0             38                 Low-Fat Berry Blue Frozen Dessert   \n",
       "1             39                                           Biryani   \n",
       "2             40                                     Best Lemonade   \n",
       "3             41                    Carina's Tofu-Vegetable Kebabs   \n",
       "4             42                                      Cabbage Soup   \n",
       "...          ...                                               ...   \n",
       "522512    541379                    Meg's Fresh Ginger Gingerbread   \n",
       "522513    541380  Roast Prime Rib au Poivre with Mixed Peppercorns   \n",
       "522514    541381                             Kirshwasser Ice Cream   \n",
       "522515    541382          Quick & Easy Asian Cucumber Salmon Rolls   \n",
       "522516    541383                           Spicy Baked Scotch Eggs   \n",
       "\n",
       "                                                      Url  \n",
       "0       https://www.food.com/recipe/low-fat-berry-blue...  \n",
       "1                  https://www.food.com/recipe/biryani-39  \n",
       "2            https://www.food.com/recipe/best-lemonade-40  \n",
       "3       https://www.food.com/recipe/carina's-tofu-vege...  \n",
       "4             https://www.food.com/recipe/cabbage-soup-42  \n",
       "...                                                   ...  \n",
       "522512  https://www.food.com/recipe/meg's-fresh-ginger...  \n",
       "522513  https://www.food.com/recipe/roast-prime-rib-au...  \n",
       "522514  https://www.food.com/recipe/kirshwasser-ice-cr...  \n",
       "522515  https://www.food.com/recipe/quick-&-easy-asian...  \n",
       "522516  https://www.food.com/recipe/spicy-baked-scotch...  \n",
       "\n",
       "[522517 rows x 3 columns]"
      ]
     },
     "execution_count": 8,
     "metadata": {},
     "output_type": "execute_result"
    }
   ],
   "source": [
    "urls = pd.read_csv('data/recipes_urls.csv')\n",
    "urls"
   ]
  },
  {
   "cell_type": "code",
   "execution_count": 2,
   "metadata": {},
   "outputs": [
    {
     "data": {
      "text/plain": [
       "Index(['RecipeId', 'Name', 'AuthorId', 'AuthorName', 'CookTime', 'PrepTime',\n",
       "       'TotalTime', 'DatePublished', 'Description', 'Images', 'RecipeCategory',\n",
       "       'Keywords', 'RecipeIngredientQuantities', 'RecipeIngredientParts',\n",
       "       'AggregatedRating', 'ReviewCount', 'Calories', 'FatContent',\n",
       "       'SaturatedFatContent', 'CholesterolContent', 'SodiumContent',\n",
       "       'CarbohydrateContent', 'FiberContent', 'SugarContent', 'ProteinContent',\n",
       "       'RecipeServings', 'RecipeYield', 'RecipeInstructions'],\n",
       "      dtype='object')"
      ]
     },
     "execution_count": 2,
     "metadata": {},
     "output_type": "execute_result"
    }
   ],
   "source": []
  },
  {
   "cell_type": "code",
   "execution_count": 7,
   "metadata": {},
   "outputs": [
    {
     "name": "stdout",
     "output_type": "stream",
     "text": [
      "(572, 'Aunt Kay\\'s Pork Chops Casserole c(\"baby green peas\", \"potatoes\", \"onion\", \"margarine\") c(\"Meat\", \"Free Of...\", \"< 30 Mins\", \"Oven\") Pork', 0.7792109272776901)\n",
      "(2397, 'Oven Fried Chicken II c(\"chicken parts\", \"flour\", \"salt\", \"fresh pepper\", \"paprika\", \"garlic powder\", \"onion powder\") c(\"Poultry\", \"Meat\", \"High Protein\", \"High In...\", \"< 60 Mins\", \"Oven\") Chicken', 0.7730713380921532)\n",
      "(889, 'Coconut Orange Squares c(\"butter\", \"margarine\", \"sugar\", \"egg\", \"milk\", \"coconut\", \"flour\", \"baking powder\", \"salt\") c(\"Dessert\", \"Cookie & Brownie\", \"Coconut\", \"Fruit\", \"Nuts\", \"< 15 Mins\", \"Oven\") Bar Cookie', 0.7472714328944228)\n",
      "(4187, 'Sweet Pepper Relish c(\"onions\", \"cider vinegar\", \"sugar\", \"pickling salt\") c(\"Low Protein\", \"Low Cholesterol\", \"Healthy\", \"< 60 Mins\", \"< 30 Mins\", \"Canning\") Vegetable', 0.7461450638603726)\n",
      "(500, 'Four Treasure Chicken Soup c(\"water chestnuts\", \"chicken breast\", \"green onion\", \"soy sauce\", \"flour\", \"Chinese hot mustard\", \"carrot\", \"chicken broth\", \"garlic powder\", \"dry sherry\") c(\"Low Protein\", \"Low Cholesterol\", \"Healthy\", \"< 60 Mins\") Clear Soup', 0.7325404559199341)\n"
     ]
    }
   ],
   "source": [
    "documents, word_to_index, words_compressed_normed, docs_compressed_normed = svd.create_svd_docs_similarity(recipes)\n",
    "similar_docs = svd.closest_recipes_to_word(documents, word_to_index, words_compressed_normed, docs_compressed_normed, 'meat', k = 5)\n",
    "svd.print_closest_recipes(similar_docs)"
   ]
  }
 ],
 "metadata": {
  "kernelspec": {
   "display_name": "base",
   "language": "python",
   "name": "python3"
  },
  "language_info": {
   "codemirror_mode": {
    "name": "ipython",
    "version": 3
   },
   "file_extension": ".py",
   "mimetype": "text/x-python",
   "name": "python",
   "nbconvert_exporter": "python",
   "pygments_lexer": "ipython3",
   "version": "3.12.2"
  }
 },
 "nbformat": 4,
 "nbformat_minor": 2
}
