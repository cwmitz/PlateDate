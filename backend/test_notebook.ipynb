{
 "cells": [
  {
   "cell_type": "code",
   "execution_count": 1,
   "metadata": {},
   "outputs": [],
   "source": [
    "import csv\n",
    "import data_processing\n",
    "import algorithm\n",
    "from re import findall\n",
    "import recipe_parser\n",
    "import url_webscraping\n",
    "import pandas as pd\n",
    "import svd"
   ]
  },
  {
   "cell_type": "code",
   "execution_count": 2,
   "metadata": {},
   "outputs": [],
   "source": [
    "with open('data/recipes.csv', 'r') as f:\n",
    "    recipes = list(csv.DictReader(f))"
   ]
  },
  {
   "cell_type": "code",
   "execution_count": 3,
   "metadata": {},
   "outputs": [
    {
     "name": "stdout",
     "output_type": "stream",
     "text": [
      "{'RecipeId': '38', 'Name': 'Low-Fat Berry Blue Frozen Dessert', 'AuthorId': '1533', 'AuthorName': 'Dancer', 'CookTime': 'PT24H', 'PrepTime': 'PT45M', 'TotalTime': 'PT24H45M', 'DatePublished': '1999-08-09T21:46:00Z', 'Description': 'Make and share this Low-Fat Berry Blue Frozen Dessert recipe from Food.com.', 'Images': 'c(\"https://img.sndimg.com/food/image/upload/w_555,h_416,c_fit,fl_progressive,q_95/v1/img/recipes/38/YUeirxMLQaeE1h3v3qnM_229%20berry%20blue%20frzn%20dess.jpg\", \"https://img.sndimg.com/food/image/upload/w_555,h_416,c_fit,fl_progressive,q_95/v1/img/recipes/38/AFPDDHATWzQ0b1CDpDAT_255%20berry%20blue%20frzn%20dess.jpg\", \"https://img.sndimg.com/food/image/upload/w_555,h_416,c_fit,fl_progressive,q_95/v1/img/recipes/38/UYgf9nwMT2SGGJCuzILO_228%20berry%20blue%20frzn%20dess.jpg\", \"https://img.sndimg.com/food/image/upload/w_555,h_416,c_fit,fl_progressive,q_95/v1/img/recipes/38/PeBMJN2TGSaYks2759BA_20140722_202142.jpg\", \\n\"https://img.sndimg.com/food/image/upload/w_555,h_416,c_fit,fl_progressive,q_95/v1/img/recipes/38/picuaETeN.jpg\", \"https://img.sndimg.com/food/image/upload/w_555,h_416,c_fit,fl_progressive,q_95/v1/img/recipes/38/pictzvxW5.jpg\")', 'RecipeCategory': 'Frozen Desserts', 'Keywords': 'c(\"Dessert\", \"Low Protein\", \"Low Cholesterol\", \"Healthy\", \"Free Of...\", \"Summer\", \"Weeknight\", \"Freezer\", \"Easy\")', 'RecipeIngredientQuantities': 'c(\"4\", \"1/4\", \"1\", \"1\")', 'RecipeIngredientParts': 'c(\"blueberries\", \"granulated sugar\", \"vanilla yogurt\", \"lemon juice\")', 'AggregatedRating': '4.5', 'ReviewCount': '4', 'Calories': '170.9', 'FatContent': '2.5', 'SaturatedFatContent': '1.3', 'CholesterolContent': '8', 'SodiumContent': '29.8', 'CarbohydrateContent': '37.1', 'FiberContent': '3.6', 'SugarContent': '30.2', 'ProteinContent': '3.2', 'RecipeServings': '4', 'RecipeYield': 'NA', 'RecipeInstructions': 'c(\"Toss 2 cups berries with sugar.\", \"Let stand for 45 minutes, stirring occasionally.\", \"Transfer berry-sugar mixture to food processor.\", \"Add yogurt and process until smooth.\", \"Strain through fine sieve. Pour into baking pan (or transfer to ice cream maker and process according to manufacturers\\' directions). Freeze uncovered until edges are solid but centre is soft.  Transfer to processor and blend until smooth again.\", \"Return to pan and freeze until edges are solid.\", \"Transfer to processor and blend until smooth again.\", \\n\"Fold in remaining 2 cups of blueberries.\", \"Pour into plastic mold and freeze overnight. Let soften slightly to serve.\")'}\n",
      "Toss 2 cups berries with sugar. Let stand for 45 minutes, stirring occasionally. Transfer berry-sugar mixture to food processor. Add yogurt and process until smooth. Strain through fine sieve. Pour into baking pan (or transfer to ice cream maker and process according to manufacturers' directions). Freeze uncovered until edges are solid but centre is soft.  Transfer to processor and blend until smooth again. Return to pan and freeze until edges are solid. Transfer to processor and blend until smooth again. Fold in remaining 2 cups of blueberries. Pour into plastic mold and freeze overnight. Let soften slightly to serve. \n"
     ]
    }
   ],
   "source": [
    "print(recipes[0])\n",
    "rah = recipe_parser.parse_instructions(recipes[0])\n",
    "print(rah)"
   ]
  },
  {
   "cell_type": "code",
   "execution_count": 4,
   "metadata": {},
   "outputs": [],
   "source": [
    "recipes = recipes[:10000]\n",
    "inv_idx = data_processing.build_inverted_index(recipes)\n",
    "id_to_recipe = data_processing.build_id_to_recipe(recipes)\n",
    "idf = data_processing.build_idf(inv_idx, len(recipes))\n",
    "recipe_norms = data_processing.build_recipe_norms(inv_idx, idf)"
   ]
  },
  {
   "cell_type": "code",
   "execution_count": 5,
   "metadata": {},
   "outputs": [],
   "source": [
    "res = algorithm.cosine_similarity(\"lemon dessert\", inv_idx, idf, recipe_norms)"
   ]
  },
  {
   "cell_type": "code",
   "execution_count": 6,
   "metadata": {},
   "outputs": [
    {
     "name": "stdout",
     "output_type": "stream",
     "text": [
      "Low-Fat Berry Blue Frozen Dessert 0.06372810245399357\n",
      "Biryani 0.022321848088684492\n",
      "Best Lemonade 0.04233930910849157\n",
      "Carina's Tofu-Vegetable Kebabs 0.02651715137772722\n",
      "Black Bean, Corn, and Tomato Salad 0.03172793659619587\n",
      "Chicken and Dumplings 0.034320916064152544\n",
      "Brazilian Empadinhas 0.03172436704351984\n",
      "Almond Paste 0.07973427891073026\n",
      "Brown Bag Apple Salad 0.026861216544587126\n",
      "Blueberry Buttertarts 0.06639546681902485\n"
     ]
    }
   ],
   "source": [
    "# Print out the top 10 recipe names\n",
    "for recipe_id, score in res[:10]:\n",
    "    print(id_to_recipe[recipe_id]['name'], score)"
   ]
  },
  {
   "cell_type": "code",
   "execution_count": 7,
   "metadata": {},
   "outputs": [],
   "source": [
    "res2 = algorithm.algorithm([\"ice cream\", \"strawberry\", \"frozen yogurt\"], inv_idx, idf, recipe_norms)"
   ]
  },
  {
   "cell_type": "code",
   "execution_count": 8,
   "metadata": {},
   "outputs": [
    {
     "name": "stdout",
     "output_type": "stream",
     "text": [
      "Frozen Brownie Cake\n",
      "Strawberry Yoghurt Ice Cream\n",
      "Strawberry Baked Alaska\n",
      "Deep Fried Ice Cream\n",
      "Strawberry Angel Delight\n",
      "Lemon Ice Cream\n",
      "\"Swiss\" Chocolate Soup\n",
      "Oreo Hot Fudge Sundae Dessert\n",
      "Quick and Easy Ice Cream Pie\n",
      "Chocolate Fudge Ice Cream Pie\n"
     ]
    }
   ],
   "source": [
    "# Print out the top 10 recipe names\n",
    "for recipe_id, score in res2[:10]:\n",
    "    print(id_to_recipe[recipe_id]['name'])"
   ]
  },
  {
   "cell_type": "code",
   "execution_count": 9,
   "metadata": {},
   "outputs": [],
   "source": [
    "recipes = pd.read_csv('data/recipes.csv')\n",
    "recipes = recipes\n",
    "url_webscraping.build_recipe_url_data(url_webscraping.url_builder, recipes, 'data/recipes_urls.csv')"
   ]
  },
  {
   "cell_type": "code",
   "execution_count": 10,
   "metadata": {},
   "outputs": [
    {
     "data": {
      "text/html": [
       "<div>\n",
       "<style scoped>\n",
       "    .dataframe tbody tr th:only-of-type {\n",
       "        vertical-align: middle;\n",
       "    }\n",
       "\n",
       "    .dataframe tbody tr th {\n",
       "        vertical-align: top;\n",
       "    }\n",
       "\n",
       "    .dataframe thead th {\n",
       "        text-align: right;\n",
       "    }\n",
       "</style>\n",
       "<table border=\"1\" class=\"dataframe\">\n",
       "  <thead>\n",
       "    <tr style=\"text-align: right;\">\n",
       "      <th></th>\n",
       "      <th>RecipeId</th>\n",
       "      <th>Name</th>\n",
       "      <th>Url</th>\n",
       "    </tr>\n",
       "  </thead>\n",
       "  <tbody>\n",
       "    <tr>\n",
       "      <th>0</th>\n",
       "      <td>38</td>\n",
       "      <td>Low-Fat Berry Blue Frozen Dessert</td>\n",
       "      <td>https://www.food.com/recipe/low-fat-berry-blue...</td>\n",
       "    </tr>\n",
       "    <tr>\n",
       "      <th>1</th>\n",
       "      <td>39</td>\n",
       "      <td>Biryani</td>\n",
       "      <td>https://www.food.com/recipe/biryani-39</td>\n",
       "    </tr>\n",
       "    <tr>\n",
       "      <th>2</th>\n",
       "      <td>40</td>\n",
       "      <td>Best Lemonade</td>\n",
       "      <td>https://www.food.com/recipe/best-lemonade-40</td>\n",
       "    </tr>\n",
       "    <tr>\n",
       "      <th>3</th>\n",
       "      <td>41</td>\n",
       "      <td>Carina's Tofu-Vegetable Kebabs</td>\n",
       "      <td>https://www.food.com/recipe/carina's-tofu-vege...</td>\n",
       "    </tr>\n",
       "    <tr>\n",
       "      <th>4</th>\n",
       "      <td>42</td>\n",
       "      <td>Cabbage Soup</td>\n",
       "      <td>https://www.food.com/recipe/cabbage-soup-42</td>\n",
       "    </tr>\n",
       "    <tr>\n",
       "      <th>...</th>\n",
       "      <td>...</td>\n",
       "      <td>...</td>\n",
       "      <td>...</td>\n",
       "    </tr>\n",
       "    <tr>\n",
       "      <th>522512</th>\n",
       "      <td>541379</td>\n",
       "      <td>Meg's Fresh Ginger Gingerbread</td>\n",
       "      <td>https://www.food.com/recipe/meg's-fresh-ginger...</td>\n",
       "    </tr>\n",
       "    <tr>\n",
       "      <th>522513</th>\n",
       "      <td>541380</td>\n",
       "      <td>Roast Prime Rib au Poivre with Mixed Peppercorns</td>\n",
       "      <td>https://www.food.com/recipe/roast-prime-rib-au...</td>\n",
       "    </tr>\n",
       "    <tr>\n",
       "      <th>522514</th>\n",
       "      <td>541381</td>\n",
       "      <td>Kirshwasser Ice Cream</td>\n",
       "      <td>https://www.food.com/recipe/kirshwasser-ice-cr...</td>\n",
       "    </tr>\n",
       "    <tr>\n",
       "      <th>522515</th>\n",
       "      <td>541382</td>\n",
       "      <td>Quick &amp; Easy Asian Cucumber Salmon Rolls</td>\n",
       "      <td>https://www.food.com/recipe/quick-&amp;-easy-asian...</td>\n",
       "    </tr>\n",
       "    <tr>\n",
       "      <th>522516</th>\n",
       "      <td>541383</td>\n",
       "      <td>Spicy Baked Scotch Eggs</td>\n",
       "      <td>https://www.food.com/recipe/spicy-baked-scotch...</td>\n",
       "    </tr>\n",
       "  </tbody>\n",
       "</table>\n",
       "<p>522517 rows × 3 columns</p>\n",
       "</div>"
      ],
      "text/plain": [
       "        RecipeId                                              Name  \\\n",
       "0             38                 Low-Fat Berry Blue Frozen Dessert   \n",
       "1             39                                           Biryani   \n",
       "2             40                                     Best Lemonade   \n",
       "3             41                    Carina's Tofu-Vegetable Kebabs   \n",
       "4             42                                      Cabbage Soup   \n",
       "...          ...                                               ...   \n",
       "522512    541379                    Meg's Fresh Ginger Gingerbread   \n",
       "522513    541380  Roast Prime Rib au Poivre with Mixed Peppercorns   \n",
       "522514    541381                             Kirshwasser Ice Cream   \n",
       "522515    541382          Quick & Easy Asian Cucumber Salmon Rolls   \n",
       "522516    541383                           Spicy Baked Scotch Eggs   \n",
       "\n",
       "                                                      Url  \n",
       "0       https://www.food.com/recipe/low-fat-berry-blue...  \n",
       "1                  https://www.food.com/recipe/biryani-39  \n",
       "2            https://www.food.com/recipe/best-lemonade-40  \n",
       "3       https://www.food.com/recipe/carina's-tofu-vege...  \n",
       "4             https://www.food.com/recipe/cabbage-soup-42  \n",
       "...                                                   ...  \n",
       "522512  https://www.food.com/recipe/meg's-fresh-ginger...  \n",
       "522513  https://www.food.com/recipe/roast-prime-rib-au...  \n",
       "522514  https://www.food.com/recipe/kirshwasser-ice-cr...  \n",
       "522515  https://www.food.com/recipe/quick-&-easy-asian...  \n",
       "522516  https://www.food.com/recipe/spicy-baked-scotch...  \n",
       "\n",
       "[522517 rows x 3 columns]"
      ]
     },
     "execution_count": 10,
     "metadata": {},
     "output_type": "execute_result"
    }
   ],
   "source": [
    "urls = pd.read_csv('data/recipes_urls.csv')\n",
    "urls"
   ]
  },
  {
   "cell_type": "code",
   "execution_count": null,
   "metadata": {},
   "outputs": [],
   "source": []
  },
  {
   "cell_type": "code",
   "execution_count": 11,
   "metadata": {},
   "outputs": [
    {
     "ename": "TypeError",
     "evalue": "string indices must be integers, not 'str'",
     "output_type": "error",
     "traceback": [
      "\u001b[0;31m---------------------------------------------------------------------------\u001b[0m",
      "\u001b[0;31mTypeError\u001b[0m                                 Traceback (most recent call last)",
      "Cell \u001b[0;32mIn[11], line 1\u001b[0m\n\u001b[0;32m----> 1\u001b[0m documents, word_to_index, index_to_word, words_compressed_normed, docs_compressed_normed \u001b[38;5;241m=\u001b[39m \u001b[43msvd\u001b[49m\u001b[38;5;241;43m.\u001b[39;49m\u001b[43mcreate_svd_docs_similarity\u001b[49m\u001b[43m(\u001b[49m\u001b[43mrecipes\u001b[49m\u001b[43m)\u001b[49m\n\u001b[1;32m      2\u001b[0m similar_docs \u001b[38;5;241m=\u001b[39m svd\u001b[38;5;241m.\u001b[39mclosest_recipes_to_word(documents, word_to_index, index_to_word, words_compressed_normed, docs_compressed_normed, \u001b[38;5;124m'\u001b[39m\u001b[38;5;124msteak\u001b[39m\u001b[38;5;124m'\u001b[39m, k \u001b[38;5;241m=\u001b[39m \u001b[38;5;241m5\u001b[39m)\n\u001b[1;32m      3\u001b[0m svd\u001b[38;5;241m.\u001b[39mprint_closest_recipes(similar_docs)\n",
      "File \u001b[0;32m~/CS4300/PlateDate/backend/svd.py:12\u001b[0m, in \u001b[0;36mcreate_svd_docs_similarity\u001b[0;34m(recipes)\u001b[0m\n\u001b[1;32m     10\u001b[0m documents \u001b[38;5;241m=\u001b[39m []\n\u001b[1;32m     11\u001b[0m \u001b[38;5;28;01mfor\u001b[39;00m recipe \u001b[38;5;129;01min\u001b[39;00m recipes:\n\u001b[0;32m---> 12\u001b[0m     recipe[\u001b[38;5;124m'\u001b[39m\u001b[38;5;124mText\u001b[39m\u001b[38;5;124m'\u001b[39m] \u001b[38;5;241m=\u001b[39m \u001b[38;5;28mstr\u001b[39m(\u001b[43mrecipe\u001b[49m\u001b[43m[\u001b[49m\u001b[38;5;124;43m'\u001b[39;49m\u001b[38;5;124;43mName\u001b[39;49m\u001b[38;5;124;43m'\u001b[39;49m\u001b[43m]\u001b[49m) \u001b[38;5;241m+\u001b[39m \u001b[38;5;124m'\u001b[39m\u001b[38;5;124m \u001b[39m\u001b[38;5;124m'\u001b[39m \u001b[38;5;241m+\u001b[39m \u001b[38;5;28mstr\u001b[39m(recipe[\u001b[38;5;124m'\u001b[39m\u001b[38;5;124mRecipeIngredientParts\u001b[39m\u001b[38;5;124m'\u001b[39m]) \u001b[38;5;241m+\u001b[39m \u001b[38;5;124m'\u001b[39m\u001b[38;5;124m \u001b[39m\u001b[38;5;124m'\u001b[39m \u001b[38;5;241m+\u001b[39m \u001b[38;5;28mstr\u001b[39m(recipe[\u001b[38;5;124m'\u001b[39m\u001b[38;5;124mKeywords\u001b[39m\u001b[38;5;124m'\u001b[39m]) \u001b[38;5;241m+\u001b[39m \u001b[38;5;124m'\u001b[39m\u001b[38;5;124m \u001b[39m\u001b[38;5;124m'\u001b[39m \u001b[38;5;241m+\u001b[39m \u001b[38;5;28mstr\u001b[39m(recipe[\u001b[38;5;124m'\u001b[39m\u001b[38;5;124mRecipeCategory\u001b[39m\u001b[38;5;124m'\u001b[39m])\n\u001b[1;32m     13\u001b[0m     documents\u001b[38;5;241m.\u001b[39mappend({\u001b[38;5;124m'\u001b[39m\u001b[38;5;124mRecipeId\u001b[39m\u001b[38;5;124m'\u001b[39m: recipe[\u001b[38;5;124m'\u001b[39m\u001b[38;5;124mRecipeId\u001b[39m\u001b[38;5;124m'\u001b[39m], \u001b[38;5;124m'\u001b[39m\u001b[38;5;124mText\u001b[39m\u001b[38;5;124m'\u001b[39m : recipe[\u001b[38;5;124m'\u001b[39m\u001b[38;5;124mText\u001b[39m\u001b[38;5;124m'\u001b[39m]})\n\u001b[1;32m     14\u001b[0m td_matrix \u001b[38;5;241m=\u001b[39m vectorizer\u001b[38;5;241m.\u001b[39mfit_transform([x[\u001b[38;5;124m'\u001b[39m\u001b[38;5;124mText\u001b[39m\u001b[38;5;124m'\u001b[39m] \u001b[38;5;28;01mfor\u001b[39;00m x \u001b[38;5;129;01min\u001b[39;00m documents])\n",
      "\u001b[0;31mTypeError\u001b[0m: string indices must be integers, not 'str'"
     ]
    }
   ],
   "source": [
    "documents, word_to_index, index_to_word, words_compressed_normed, docs_compressed_normed = svd.create_svd_docs_similarity(recipes)\n",
    "similar_docs = svd.closest_recipes_to_word(documents, word_to_index, index_to_word, words_compressed_normed, docs_compressed_normed, 'steak', k = 5)\n",
    "svd.print_closest_recipes(similar_docs)"
   ]
  },
  {
   "cell_type": "code",
   "execution_count": null,
   "metadata": {},
   "outputs": [],
   "source": []
  }
 ],
 "metadata": {
  "kernelspec": {
   "display_name": "base",
   "language": "python",
   "name": "python3"
  },
  "language_info": {
   "codemirror_mode": {
    "name": "ipython",
    "version": 3
   },
   "file_extension": ".py",
   "mimetype": "text/x-python",
   "name": "python",
   "nbconvert_exporter": "python",
   "pygments_lexer": "ipython3",
   "version": "3.12.2"
  }
 },
 "nbformat": 4,
 "nbformat_minor": 2
}
